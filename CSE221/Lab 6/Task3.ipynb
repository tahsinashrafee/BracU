{
 "cells": [
  {
   "cell_type": "code",
   "execution_count": 5,
   "id": "cd0e9234",
   "metadata": {},
   "outputs": [
    {
     "name": "stdout",
     "output_type": "stream",
     "text": [
      "[[[0. 0. 0. 0. 0. 0.]\n",
      "  [0. 0. 0. 0. 0. 0.]\n",
      "  [0. 0. 0. 0. 0. 0.]\n",
      "  [0. 0. 0. 0. 0. 0.]\n",
      "  [0. 0. 0. 0. 0. 0.]\n",
      "  [0. 0. 0. 0. 0. 0.]]\n",
      "\n",
      " [[0. 0. 0. 0. 0. 0.]\n",
      "  [0. 0. 0. 0. 0. 0.]\n",
      "  [0. 0. 0. 0. 0. 0.]\n",
      "  [0. 0. 0. 0. 0. 0.]\n",
      "  [0. 0. 0. 0. 0. 0.]\n",
      "  [0. 0. 0. 0. 0. 0.]]\n",
      "\n",
      " [[0. 0. 0. 0. 0. 0.]\n",
      "  [0. 0. 0. 0. 0. 0.]\n",
      "  [0. 0. 1. 1. 1. 1.]\n",
      "  [0. 0. 1. 1. 1. 1.]\n",
      "  [0. 0. 1. 1. 1. 1.]\n",
      "  [0. 0. 1. 1. 1. 1.]]\n",
      "\n",
      " [[0. 0. 0. 0. 0. 0.]\n",
      "  [0. 0. 0. 0. 0. 0.]\n",
      "  [0. 0. 1. 1. 1. 1.]\n",
      "  [0. 0. 1. 2. 2. 2.]\n",
      "  [0. 0. 1. 2. 2. 2.]\n",
      "  [0. 0. 1. 2. 2. 2.]]\n",
      "\n",
      " [[0. 0. 0. 0. 0. 0.]\n",
      "  [0. 0. 0. 0. 0. 0.]\n",
      "  [0. 0. 1. 1. 1. 1.]\n",
      "  [0. 0. 1. 2. 2. 2.]\n",
      "  [0. 0. 1. 2. 3. 3.]\n",
      "  [0. 0. 1. 2. 3. 3.]]]\n"
     ]
    }
   ],
   "source": [
    "import numpy as np\n",
    "file =open(\"input3.txt\",\"r\")\n",
    "file=file.read().split()\n",
    "\n",
    "s=file[0]\n",
    "s2=file[1]\n",
    "s3=file[2]\n",
    "def LCS(X,Y,Z):\n",
    "    m=len(X)+1\n",
    "    n=len(Y)+1\n",
    "    o=len(Z)+1\n",
    "    c=np.zeros((m,n,o))\n",
    "    for i in range(1,m):\n",
    "        for j in range(1,n):\n",
    "            for k in range(1,o):\n",
    "                if X[i-1]==Y[j-1] and X[i-1]==Z[k-1]:\n",
    "                    c[i][j][k]=1+(c[i-1][j-1][k-1])\n",
    "                else:\n",
    "                    maxim=max(c[i-1][j][k],c[i][j-1][k])\n",
    "                    maxim=max(maxim,c[i][j][k-1])\n",
    "                    c[i][j][k]=maxim\n",
    "    return c\n",
    "res=LCS(s,s2,s3)\n",
    "file=open(\"output3.txt\",\"w\")\n",
    "file.write(str(int(res[-1][-1][-1])))\n",
    "file.close()\n",
    "print(res)"
   ]
  },
  {
   "cell_type": "code",
   "execution_count": null,
   "id": "93499197",
   "metadata": {},
   "outputs": [],
   "source": []
  }
 ],
 "metadata": {
  "kernelspec": {
   "display_name": "Python 3",
   "language": "python",
   "name": "python3"
  },
  "language_info": {
   "codemirror_mode": {
    "name": "ipython",
    "version": 3
   },
   "file_extension": ".py",
   "mimetype": "text/x-python",
   "name": "python",
   "nbconvert_exporter": "python",
   "pygments_lexer": "ipython3",
   "version": "3.8.8"
  }
 },
 "nbformat": 4,
 "nbformat_minor": 5
}
