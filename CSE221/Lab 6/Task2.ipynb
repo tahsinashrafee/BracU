{
 "cells": [
  {
   "cell_type": "code",
   "execution_count": 10,
   "id": "557c6e5b",
   "metadata": {},
   "outputs": [
    {
     "name": "stdout",
     "output_type": "stream",
     "text": [
      "Yasnaya Pochinki Farm Mylta Shelter Prison \n",
      "Correctness of prediction:75.0%\n"
     ]
    }
   ],
   "source": [
    "import numpy as np\n",
    "file =open(\"input2.txt\",\"r\")\n",
    "file=file.read().split()\n",
    "\n",
    "z={1:\"Yasnaya\",2:\"Rozhok\" ,3 :\"School\",4 :\"Pochinki\",5 :\"Farm\" ,6 :\"Mylta\",7 :\"Shelter\",8 :\"Prison\"}\n",
    "l=int(file[0])\n",
    "s=file[1]\n",
    "s_2=file[2]\n",
    "def LCS(X,Y):\n",
    "    m=len(X)+1\n",
    "    n=len(Y)+1\n",
    "    c=np.zeros((m,n))\n",
    "    t=np.zeros((m,n))\n",
    "    for i in range(len(t)):\n",
    "        if i==0:\n",
    "            for j in range (len(t[i])):\n",
    "                t[i][j]=None\n",
    "        else:\n",
    "            t[i][0]=None\n",
    "    for i in range(1,m):\n",
    "        for j in range(1,n):\n",
    "            if s[j-1]==s_2[i-1]:\n",
    "                c[i][j]=((c[i-1][j-1])+1)\n",
    "                t[i][j]=\"3\"     # 3= diagonal\n",
    "            else:\n",
    "                c[i][j]=max(c[i-1][j],c[i][j-1])\n",
    "                if c[i][j]==c[i][j-1]:\n",
    "                    t[i][j]=\"2\"          # 2= left\n",
    "                else:\n",
    "                    t[i][j]=\"1\"         # 1= up\n",
    "    \n",
    "    return c\n",
    "\n",
    "\n",
    "\n",
    "a=LCS(s,s_2)\n",
    "\n",
    "st=-1\n",
    "res=\"\"\n",
    "for i in range (-1,-len(a),-1):\n",
    "    for j in range (st,-len(a[i]),-1):\n",
    "        if (a[i][j-1]==a[i-1][j]) and a[i][j] !=a[i][j-1] and a[i][j] !=a[i-1][j]:\n",
    "            res=(z[(j+8)+1])+\" \"+res\n",
    "            st=j\n",
    "            break\n",
    "        if (a[i][j-1]==a[i-1][j]) and a[i][j] ==a[i][j-1] and a[i][j] ==a[i-1][j]:\n",
    "            break\n",
    "            \n",
    "x=(a[-1][-1]/l)*100\n",
    "res+=\"\\nCorrectness of prediction:\"+str(x)+\"%\"\n",
    "print(res)\n",
    "file=open(\"output2.txt\",\"w\")\n",
    "file.write(res)\n",
    "file.close()"
   ]
  },
  {
   "cell_type": "code",
   "execution_count": null,
   "id": "103a97ac",
   "metadata": {},
   "outputs": [],
   "source": []
  }
 ],
 "metadata": {
  "kernelspec": {
   "display_name": "Python 3",
   "language": "python",
   "name": "python3"
  },
  "language_info": {
   "codemirror_mode": {
    "name": "ipython",
    "version": 3
   },
   "file_extension": ".py",
   "mimetype": "text/x-python",
   "name": "python",
   "nbconvert_exporter": "python",
   "pygments_lexer": "ipython3",
   "version": "3.8.8"
  }
 },
 "nbformat": 4,
 "nbformat_minor": 5
}
