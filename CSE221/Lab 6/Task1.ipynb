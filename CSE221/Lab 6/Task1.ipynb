{
 "cells": [
  {
   "cell_type": "code",
   "execution_count": 4,
   "id": "bff89cf1",
   "metadata": {},
   "outputs": [
    {
     "data": {
      "text/plain": [
       "1"
      ]
     },
     "execution_count": 4,
     "metadata": {},
     "output_type": "execute_result"
    }
   ],
   "source": [
    "file=open('input1.txt','r')\n",
    "n=file.read()\n",
    "s=int(n)\n",
    "stp=0\n",
    "while s>0:\n",
    "    a=max(list(n))\n",
    "    s-=int(a)\n",
    "    stp+=1\n",
    "file2=open('output1.txt','w')\n",
    "file2.write(str(stp))"
   ]
  },
  {
   "cell_type": "code",
   "execution_count": null,
   "id": "04e04228",
   "metadata": {},
   "outputs": [],
   "source": []
  }
 ],
 "metadata": {
  "kernelspec": {
   "display_name": "Python 3",
   "language": "python",
   "name": "python3"
  },
  "language_info": {
   "codemirror_mode": {
    "name": "ipython",
    "version": 3
   },
   "file_extension": ".py",
   "mimetype": "text/x-python",
   "name": "python",
   "nbconvert_exporter": "python",
   "pygments_lexer": "ipython3",
   "version": "3.8.8"
  }
 },
 "nbformat": 4,
 "nbformat_minor": 5
}
